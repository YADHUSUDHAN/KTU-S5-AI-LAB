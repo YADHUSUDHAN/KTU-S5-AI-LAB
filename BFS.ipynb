{
 "cells": [
  {
   "cell_type": "code",
   "execution_count": 6,
   "id": "80fa20e2",
   "metadata": {},
   "outputs": [
    {
     "name": "stdout",
     "output_type": "stream",
     "text": [
      "Enter the number of vertex : 3\n",
      "Enter the vertex : 1\n",
      "Enter the child nodes seperated by space (if no child hit enter ) : 2 3\n",
      "\n",
      "\n",
      "Enter the vertex : 2\n",
      "Enter the child nodes seperated by space (if no child hit enter ) : \n",
      "\n",
      "\n",
      "Enter the vertex : 3\n",
      "Enter the child nodes seperated by space (if no child hit enter ) : \n",
      "\n",
      "\n",
      "Enter the start node : 5\n",
      "Invalid state.\n",
      "Enter the start node : 6\n",
      "Invalid state.\n",
      "Enter the start node : 3\n",
      "Enter the goal node : 3\n",
      "Solution Found.\n",
      "Path is  ['3']\n"
     ]
    }
   ],
   "source": [
    "graph = {}\n",
    "frontier = []\n",
    "explored = []\n",
    "path = []\n",
    "def bfs(start_node,goal_node):\n",
    "    frontier.append(start_node)\n",
    "    while frontier:\n",
    "        node = frontier.pop(0)\n",
    "        explored.append(node)\n",
    "        path.append(node)\n",
    "        if node == goal_node:\n",
    "            print(\"Solution Found.\")\n",
    "            return print(\"Path is \",path)\n",
    "        for child in graph[node]:\n",
    "            if child not in frontier and child not in explored:\n",
    "                frontier.append(child)\n",
    "    return print(\"Solution not found.\")\n",
    "\n",
    "n = int(input(\"Enter the number of vertex : \"))\n",
    "for i in range(n):\n",
    "    v = input(\"Enter the vertex : \")\n",
    "    childs = input(\"Enter the child nodes seperated by space (if no child hit enter ) : \").split()\n",
    "    graph[v] = childs\n",
    "    print(\"\\n\")\n",
    "start_node = input(\"Enter the start node : \")\n",
    "while start_node not in graph.keys() :\n",
    "    print(\"Invalid state.\")\n",
    "    start_node = input(\"Renter the start node : \")\n",
    "goal_node = input(\"Enter the goal node : \")\n",
    "bfs(start_node,goal_node)"
   ]
  },
  {
   "cell_type": "code",
   "execution_count": null,
   "id": "a88b2876",
   "metadata": {},
   "outputs": [],
   "source": []
  },
  {
   "cell_type": "code",
   "execution_count": null,
   "id": "9f7af0b2",
   "metadata": {},
   "outputs": [],
   "source": []
  }
 ],
 "metadata": {
  "kernelspec": {
   "display_name": "Python 3 (ipykernel)",
   "language": "python",
   "name": "python3"
  },
  "language_info": {
   "codemirror_mode": {
    "name": "ipython",
    "version": 3
   },
   "file_extension": ".py",
   "mimetype": "text/x-python",
   "name": "python",
   "nbconvert_exporter": "python",
   "pygments_lexer": "ipython3",
   "version": "3.9.13"
  }
 },
 "nbformat": 4,
 "nbformat_minor": 5
}
