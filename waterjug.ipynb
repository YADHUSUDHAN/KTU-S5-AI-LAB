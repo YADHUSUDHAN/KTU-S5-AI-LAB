{
 "cells": [
  {
   "cell_type": "code",
   "execution_count": 8,
   "id": "f4e99324",
   "metadata": {},
   "outputs": [
    {
     "name": "stdout",
     "output_type": "stream",
     "text": [
      "Enter the capacity of jug1 : 4\n",
      "Enter the capacity of jug2 : 3\n",
      "Enter the required amount : 1\n",
      "Enter the required jug(jug1-1/jug2-2) : 1\n",
      "target reached :  1\n",
      "Steps are : \n",
      "(0, 0)\n",
      "(4, 0)\n",
      "(4, 3)\n",
      "(0, 3)\n",
      "(3, 0)\n",
      "(3, 3)\n",
      "(4, 2)\n",
      "(0, 2)\n",
      "(2, 0)\n",
      "(2, 3)\n",
      "(4, 1)\n",
      "(0, 1)\n"
     ]
    }
   ],
   "source": [
    "from collections import defaultdict\n",
    "visited = defaultdict(lambda : False)\n",
    "path = list()\n",
    "jug1 = int(input(\"Enter the capacity of jug1 : \"))\n",
    "jug2 = int(input(\"Enter the capacity of jug2 : \"))\n",
    "goal = int(input(\"Enter the required amount : \"))\n",
    "reqjug = int(input(\"Enter the required jug(jug1-1/jug2-2) : \"))\n",
    "def waterjug(amount1,amount2):\n",
    "    if(reqjug == 1 and amount1 ==  goal):\n",
    "        print(\"target reached : \",goal)\n",
    "        return True\n",
    "    elif(reqjug == 2 and amount2 ==  goal):\n",
    "        print(\"target reached : \",goal)\n",
    "        return True\n",
    "    if(visited[(amount1,amount2)] == False):\n",
    "        path.append((amount1,amount2)) \n",
    "        visited[(amount1,amount2)] = True\n",
    "        return waterjug(amount1,0) or waterjug(0,amount2) or waterjug(jug1,amount2) or waterjug(amount1,jug2) or waterjug(amount1+min(amount2,(jug1-amount1)),amount2-min(amount2,(jug1-amount1))) or waterjug(amount1-min(amount1,(jug2-amount2)),amount2+min(amount1,(jug2-amount2))) \n",
    "    else:\n",
    "        return False\n",
    "if waterjug(0,0) == True:\n",
    "    print(\"Steps are : \")\n",
    "    for i in path:\n",
    "        print(i)\n",
    "else:\n",
    "    print(\"Not possible.\")"
   ]
  },
  {
   "cell_type": "code",
   "execution_count": null,
   "id": "d761236b",
   "metadata": {},
   "outputs": [],
   "source": []
  }
 ],
 "metadata": {
  "kernelspec": {
   "display_name": "Python 3 (ipykernel)",
   "language": "python",
   "name": "python3"
  },
  "language_info": {
   "codemirror_mode": {
    "name": "ipython",
    "version": 3
   },
   "file_extension": ".py",
   "mimetype": "text/x-python",
   "name": "python",
   "nbconvert_exporter": "python",
   "pygments_lexer": "ipython3",
   "version": "3.9.13"
  }
 },
 "nbformat": 4,
 "nbformat_minor": 5
}
