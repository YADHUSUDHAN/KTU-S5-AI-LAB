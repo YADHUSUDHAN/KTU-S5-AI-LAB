{
 "cells": [
  {
   "cell_type": "code",
   "execution_count": 47,
   "id": "270778ae",
   "metadata": {},
   "outputs": [
    {
     "name": "stdout",
     "output_type": "stream",
     "text": [
      "Enter the number of queens8\n",
      "[0, 1, 0, 0, 0, 0, 0, 0]\n",
      "[0, 0, 0, 1, 0, 0, 0, 0]\n",
      "[0, 0, 0, 0, 0, 1, 0, 0]\n",
      "[0, 0, 0, 0, 0, 0, 0, 1]\n",
      "[0, 0, 1, 0, 0, 0, 0, 0]\n",
      "[1, 0, 0, 0, 0, 0, 0, 0]\n",
      "[0, 0, 0, 0, 0, 0, 1, 0]\n",
      "[0, 0, 0, 0, 1, 0, 0, 0]\n"
     ]
    }
   ],
   "source": [
    "N = int(input(\"Enter the number of queens\"))\n",
    "board = [[0]*N for i in range(N)]\n",
    "\n",
    "def is_attack(i,j):\n",
    "    for k in range(0,N):\n",
    "        if board[i][k] == 1 or board[k][j] == 1 :\n",
    "            return True\n",
    "    for k in range(0,N):\n",
    "        for l in range(0,N):\n",
    "            if (k+l == i+j) or (k-l == i-j):\n",
    "                if board[k][l] == 1:\n",
    "                    return True\n",
    "    return False\n",
    "\n",
    "\n",
    "def n_queen(n):\n",
    "    if n == 0 :\n",
    "        return True\n",
    "    for i in range(0,N):\n",
    "        for j in range(0,N):\n",
    "            if(not(is_attack(i,j))) and (board[i][j] != 1):\n",
    "                board[i][j] =1\n",
    "                if n_queen(n-1) == True:\n",
    "                    return True\n",
    "            \n",
    "                \n",
    "    return False\n",
    "\n",
    "def count_of_1() :#for counting number of queens placed in the board\n",
    "    sm = 0\n",
    "    for i in range(N):\n",
    "        sm = sm +  board[i].count(1)\n",
    "    return sm\n",
    "        \n",
    "\n",
    "f = 0 #used as flag for exiting from loop\n",
    "for i in range(0,N):\n",
    "    for j in range(0,N):\n",
    "        board = [[0]*N for k in range(N)]\n",
    "        board[i][j] = 1 #placing first queen at different position until getting a solution\n",
    "        n_queen(N)\n",
    "        if count_of_1() == N: \n",
    "            f = 1\n",
    "            break\n",
    "    if f == 1:\n",
    "        break\n",
    "        \n",
    "\n",
    "n_queen(N)\n",
    "for i in board:\n",
    "    print(i)\n"
   ]
  },
  {
   "cell_type": "code",
   "execution_count": null,
   "id": "ecd3708b",
   "metadata": {},
   "outputs": [],
   "source": []
  },
  {
   "cell_type": "code",
   "execution_count": null,
   "id": "58687f1d",
   "metadata": {},
   "outputs": [],
   "source": []
  }
 ],
 "metadata": {
  "kernelspec": {
   "display_name": "Python 3 (ipykernel)",
   "language": "python",
   "name": "python3"
  },
  "language_info": {
   "codemirror_mode": {
    "name": "ipython",
    "version": 3
   },
   "file_extension": ".py",
   "mimetype": "text/x-python",
   "name": "python",
   "nbconvert_exporter": "python",
   "pygments_lexer": "ipython3",
   "version": "3.9.13"
  }
 },
 "nbformat": 4,
 "nbformat_minor": 5
}
