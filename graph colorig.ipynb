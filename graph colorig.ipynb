{
 "cells": [
  {
   "cell_type": "code",
   "execution_count": 10,
   "id": "7cd91862",
   "metadata": {},
   "outputs": [
    {
     "name": "stdout",
     "output_type": "stream",
     "text": [
      "Assignmet not possible with given number of colours.\n"
     ]
    }
   ],
   "source": [
    "colors = ['red','blue']\n",
    "states = ['kerala','tamil nadu','telengana','karnataka']\n",
    "neighbours = {}\n",
    "neighbours['kerala'] = ['tamil nadu','karnataka']\n",
    "neighbours['tamil nadu'] = ['kerala','telengana','karnataka']\n",
    "neighbours['karnataka'] = ['kerala','tamil nadu','telengana']\n",
    "neighbours['telengana'] = ['tamil nadu','karnataka']\n",
    "color_of_states = {}\n",
    "def promising(state,color):\n",
    "    for neighbour in neighbours.get(state):\n",
    "        color_of_neighbour = color_of_states.get(neighbour)\n",
    "        if color_of_neighbour == color:\n",
    "            return False\n",
    "    return True\n",
    "def get_color_for_state(state):\n",
    "    for color in colors:\n",
    "        if promising(state,color):\n",
    "            return color        \n",
    "def main():\n",
    "    for state in states:\n",
    "        color_of_states[state] = get_color_for_state(state)\n",
    "        if color_of_states[state] == None:\n",
    "            return print(\"Assignmet not possible with given number of colours.\")\n",
    "    print(color_of_states)\n",
    "    \n",
    "main()"
   ]
  },
  {
   "cell_type": "code",
   "execution_count": null,
   "id": "09483368",
   "metadata": {},
   "outputs": [],
   "source": []
  }
 ],
 "metadata": {
  "kernelspec": {
   "display_name": "Python 3 (ipykernel)",
   "language": "python",
   "name": "python3"
  },
  "language_info": {
   "codemirror_mode": {
    "name": "ipython",
    "version": 3
   },
   "file_extension": ".py",
   "mimetype": "text/x-python",
   "name": "python",
   "nbconvert_exporter": "python",
   "pygments_lexer": "ipython3",
   "version": "3.9.13"
  }
 },
 "nbformat": 4,
 "nbformat_minor": 5
}
